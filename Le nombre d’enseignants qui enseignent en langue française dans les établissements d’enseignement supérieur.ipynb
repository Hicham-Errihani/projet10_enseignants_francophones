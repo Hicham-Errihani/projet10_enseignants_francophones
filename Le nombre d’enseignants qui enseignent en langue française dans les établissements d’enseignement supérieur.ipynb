{
 "cells": [
  {
   "cell_type": "code",
   "execution_count": 1,
   "id": "b6668914-1d5e-4aa3-bb4a-0370a50145e6",
   "metadata": {},
   "outputs": [
    {
     "name": "stdout",
     "output_type": "stream",
     "text": [
      "📊 Nombre estimé d’auteurs francophones affiliés (enseignants-chercheurs potentiels) : 482\n"
     ]
    }
   ],
   "source": [
    "import requests\n",
    "\n",
    "# Requête API HAL : publications en français avec affiliations\n",
    "url = \"https://api.archives-ouvertes.fr/search/?q=language_s:fr AND structName_s:[* TO *]&fl=authIdHal_s&rows=1000\"\n",
    "\n",
    "response = requests.get(url)\n",
    "\n",
    "if response.status_code == 200:\n",
    "    data = response.json()\n",
    "    docs = data.get(\"response\", {}).get(\"docs\", [])\n",
    "\n",
    "    # Récupérer tous les identifiants HAL uniques des auteurs\n",
    "    auteurs = set()\n",
    "    for doc in docs:\n",
    "        ids = doc.get(\"authIdHal_s\", [])\n",
    "        auteurs.update(ids)\n",
    "\n",
    "    print(f\"📊 Nombre estimé d’auteurs francophones affiliés (enseignants-chercheurs potentiels) : {len(auteurs)}\")\n",
    "\n",
    "else:\n",
    "    print(\"❌ Erreur lors de l'accès à l’API HAL.\")\n"
   ]
  },
  {
   "cell_type": "code",
   "execution_count": null,
   "id": "68c18509-c3a1-4fab-b9c6-d18ca669339c",
   "metadata": {},
   "outputs": [],
   "source": []
  }
 ],
 "metadata": {
  "kernelspec": {
   "display_name": "Python 3 (ipykernel)",
   "language": "python",
   "name": "python3"
  },
  "language_info": {
   "codemirror_mode": {
    "name": "ipython",
    "version": 3
   },
   "file_extension": ".py",
   "mimetype": "text/x-python",
   "name": "python",
   "nbconvert_exporter": "python",
   "pygments_lexer": "ipython3",
   "version": "3.10.12"
  }
 },
 "nbformat": 4,
 "nbformat_minor": 5
}
