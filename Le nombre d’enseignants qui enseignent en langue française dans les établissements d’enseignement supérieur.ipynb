{
 "cells": [
  {
   "cell_type": "markdown",
   "id": "b1de1a8d-41d2-43fa-ac72-daa13ee5062d",
   "metadata": {},
   "source": [
    "## 📦 **Étape 1 — Importer les bibliothèques nécessaires**\n",
    "\n",
    "> Cette étape consiste à importer les modules essentiels pour la récupération des données,  \n",
    "> leur traitement et leur export.\n"
   ]
  },
  {
   "cell_type": "code",
   "execution_count": 5,
   "id": "af980b3a-175b-43c7-9a81-de970e69703d",
   "metadata": {},
   "outputs": [],
   "source": [
    "import requests\n",
    "import pandas as pd\n",
    "import matplotlib.pyplot as plt\n",
    "from datetime import datetime\n"
   ]
  },
  {
   "cell_type": "code",
   "execution_count": 6,
   "id": "4fb95d58-30c3-4dbe-bff0-f8de901a6560",
   "metadata": {},
   "outputs": [
    {
     "name": "stdout",
     "output_type": "stream",
     "text": [
      "Defaulting to user installation because normal site-packages is not writeable\n",
      "Collecting matplotlib\n",
      "  Using cached matplotlib-3.10.3-cp310-cp310-manylinux_2_17_x86_64.manylinux2014_x86_64.whl (8.6 MB)\n",
      "Collecting numpy>=1.23\n",
      "  Using cached numpy-2.2.6-cp310-cp310-manylinux_2_17_x86_64.manylinux2014_x86_64.whl (16.8 MB)\n",
      "Collecting kiwisolver>=1.3.1\n",
      "  Using cached kiwisolver-1.4.8-cp310-cp310-manylinux_2_12_x86_64.manylinux2010_x86_64.whl (1.6 MB)\n",
      "Collecting fonttools>=4.22.0\n",
      "  Using cached fonttools-4.58.0-cp310-cp310-manylinux_2_17_x86_64.manylinux2014_x86_64.whl (4.7 MB)\n",
      "Collecting packaging>=20.0\n",
      "  Using cached packaging-25.0-py3-none-any.whl (66 kB)\n",
      "Collecting python-dateutil>=2.7\n",
      "  Using cached python_dateutil-2.9.0.post0-py2.py3-none-any.whl (229 kB)\n",
      "Collecting pyparsing>=2.3.1\n",
      "  Using cached pyparsing-3.2.3-py3-none-any.whl (111 kB)\n",
      "Collecting contourpy>=1.0.1\n",
      "  Using cached contourpy-1.3.2-cp310-cp310-manylinux_2_17_x86_64.manylinux2014_x86_64.whl (325 kB)\n",
      "Collecting pillow>=8\n",
      "  Using cached pillow-11.2.1-cp310-cp310-manylinux_2_28_x86_64.whl (4.6 MB)\n",
      "Collecting cycler>=0.10\n",
      "  Using cached cycler-0.12.1-py3-none-any.whl (8.3 kB)\n",
      "Collecting six>=1.5\n",
      "  Using cached six-1.17.0-py2.py3-none-any.whl (11 kB)\n",
      "Installing collected packages: six, pyparsing, pillow, packaging, numpy, kiwisolver, fonttools, cycler, python-dateutil, contourpy, matplotlib\n",
      "  Attempting uninstall: six\n",
      "    Found existing installation: six 1.17.0\n",
      "    Uninstalling six-1.17.0:\n",
      "      Successfully uninstalled six-1.17.0\n",
      "  Attempting uninstall: pyparsing\n",
      "    Found existing installation: pyparsing 3.2.3\n",
      "    Uninstalling pyparsing-3.2.3:\n",
      "      Successfully uninstalled pyparsing-3.2.3\n",
      "  Attempting uninstall: pillow\n",
      "    Found existing installation: pillow 11.2.1\n",
      "    Uninstalling pillow-11.2.1:\n",
      "      Successfully uninstalled pillow-11.2.1\n",
      "  Attempting uninstall: packaging\n",
      "    Found existing installation: packaging 25.0\n",
      "    Uninstalling packaging-25.0:\n",
      "      Successfully uninstalled packaging-25.0\n",
      "  Attempting uninstall: numpy\n",
      "    Found existing installation: numpy 2.2.6\n",
      "    Uninstalling numpy-2.2.6:\n",
      "      Successfully uninstalled numpy-2.2.6\n",
      "  Attempting uninstall: kiwisolver\n",
      "    Found existing installation: kiwisolver 1.4.8\n",
      "    Uninstalling kiwisolver-1.4.8:\n",
      "      Successfully uninstalled kiwisolver-1.4.8\n",
      "  Attempting uninstall: fonttools\n",
      "    Found existing installation: fonttools 4.58.0\n",
      "    Uninstalling fonttools-4.58.0:\n",
      "      Successfully uninstalled fonttools-4.58.0\n",
      "  Attempting uninstall: cycler\n",
      "    Found existing installation: cycler 0.12.1\n",
      "    Uninstalling cycler-0.12.1:\n",
      "      Successfully uninstalled cycler-0.12.1\n",
      "  Attempting uninstall: python-dateutil\n",
      "    Found existing installation: python-dateutil 2.9.0.post0\n",
      "    Uninstalling python-dateutil-2.9.0.post0:\n",
      "      Successfully uninstalled python-dateutil-2.9.0.post0\n",
      "  Attempting uninstall: contourpy\n",
      "    Found existing installation: contourpy 1.3.2\n",
      "    Uninstalling contourpy-1.3.2:\n",
      "      Successfully uninstalled contourpy-1.3.2\n",
      "  Attempting uninstall: matplotlib\n",
      "    Found existing installation: matplotlib 3.10.3\n",
      "    Uninstalling matplotlib-3.10.3:\n",
      "      Successfully uninstalled matplotlib-3.10.3\n",
      "Successfully installed contourpy-1.3.2 cycler-0.12.1 fonttools-4.58.0 kiwisolver-1.4.8 matplotlib-3.10.3 numpy-2.2.6 packaging-25.0 pillow-11.2.1 pyparsing-3.2.3 python-dateutil-2.9.0.post0 six-1.17.0\n"
     ]
    }
   ],
   "source": [
    "!pip install --upgrade --force-reinstall matplotlib\n"
   ]
  },
  {
   "cell_type": "markdown",
   "id": "ede45dbb-7a63-4bb5-b71c-e62028a9cb95",
   "metadata": {},
   "source": [
    "## 🌐 **Étape 2 — Récupération des données depuis l'API HAL**\n",
    "\n",
    "> Cette étape permet de récupérer les données brutes en format JSON à partir d'une requête HTTP envoyée à l'API HAL.\n"
   ]
  },
  {
   "cell_type": "code",
   "execution_count": 7,
   "id": "f61f9067-df1e-4cd0-965d-f28c04e83449",
   "metadata": {},
   "outputs": [],
   "source": [
    "# Requête API HAL : publications en français avec affiliations\n",
    "url = \"https://api.archives-ouvertes.fr/search/?q=language_s:fr AND structName_s:[* TO *]&fl=authIdHal_s&rows=1000\"\n",
    "response = requests.get(url)\n"
   ]
  },
  {
   "cell_type": "markdown",
   "id": "9fee3930-9277-44b9-8e7b-9f0781db51db",
   "metadata": {},
   "source": [
    "## 🧪 **Étape 3 — Vérification du statut de la réponse**\n",
    "\n",
    "> On vérifie ici si l’appel API a bien été effectué avec succès (code 200), avant de continuer le traitement.\n"
   ]
  },
  {
   "cell_type": "code",
   "execution_count": 8,
   "id": "bec81d87-0f42-4fba-824c-eff5829f9043",
   "metadata": {},
   "outputs": [],
   "source": [
    "if response.status_code == 200:\n",
    "    data = response.json()\n",
    "    docs = data.get(\"response\", {}).get(\"docs\", [])\n",
    "else:\n",
    "    print(\"❌ Erreur lors de l'accès à l'API HAL.\")"
   ]
  },
  {
   "cell_type": "markdown",
   "id": "b5b1be80-a984-4023-b0f9-8cc1a5b278e8",
   "metadata": {},
   "source": [
    "## 🧼 **Étape 4 — Traitement et nettoyage des données**\n",
    "\n",
    "> Suppression des espaces superflus, gestion des identifiants vides, et élimination des doublons via une structure `set()`.\n"
   ]
  },
  {
   "cell_type": "code",
   "execution_count": 9,
   "id": "b73c1d3c-e064-4aa1-ad42-6fba62379494",
   "metadata": {},
   "outputs": [],
   "source": [
    "# Initialisation d'un ensemble pour stocker les identifiants uniques\n",
    "auteurs = set()\n",
    "\n",
    "# Parcours des documents\n",
    "for doc in docs:\n",
    "    ids = doc.get(\"authIdHal_s\", [])\n",
    "    # Nettoyage : suppression des espaces et valeurs vides\n",
    "    ids_nettoyes = [i.strip() for i in ids if i and i.strip()]\n",
    "    auteurs.update(ids_nettoyes)\n",
    "\n",
    "# Filtrage final : suppression de valeurs nulles ou vides (sécurité supplémentaire)\n",
    "auteurs = set(filter(None, auteurs))"
   ]
  },
  {
   "cell_type": "markdown",
   "id": "ce3b358e-4242-44b2-89ac-f040e91232eb",
   "metadata": {},
   "source": [
    "## 💾 **Étape 5 — Sauvegarde des données structurées dans un CSV**\n",
    "\n",
    "> Après nettoyage, les données sont exportées proprement dans un fichier `.csv` lisible et analysable.\n"
   ]
  },
  {
   "cell_type": "code",
   "execution_count": 11,
   "id": "831ec9c6-fa77-47a4-b0f8-ae8018cca7e5",
   "metadata": {},
   "outputs": [
    {
     "name": "stdout",
     "output_type": "stream",
     "text": [
      "✅ Nombre estimé d'auteurs francophones : 408 enregistré le 2025-05-21 06:27:37\n"
     ]
    }
   ],
   "source": [
    "import csv\n",
    "\n",
    "# Génération de la date du jour\n",
    "date_du_jour = datetime.now().strftime(\"%Y-%m-%d %H:%M:%S\")\n",
    "\n",
    "# Sauvegarde dans un fichier CSV propre\n",
    "with open(\"enseignants_hal_estimation.csv\", mode=\"w\", newline='', encoding=\"utf-8\") as fichier_csv:\n",
    "    writer = csv.writer(fichier_csv)\n",
    "    writer.writerow([\"Date\", \"Nombre d’auteurs francophones estimé\"])\n",
    "    writer.writerow([date_du_jour, len(auteurs)])\n",
    "\n",
    "print(f\"\\u2705 Nombre estimé d'auteurs francophones : {len(auteurs)} enregistré le {date_du_jour}\")"
   ]
  },
  {
   "cell_type": "markdown",
   "id": "8c25a33d-92ae-49e2-b414-d56ddb886690",
   "metadata": {},
   "source": [
    "## 📊 Étape 6 — Appliquer des techniques de traitement statistique avancé\n",
    "\n",
    "> Cette phase permet d’extraire des tendances et des informations significatives à partir des données collectées sur les auteurs francophones.\n"
   ]
  },
  {
   "cell_type": "code",
   "execution_count": 12,
   "id": "99dbce41-1478-4523-85a4-3666686bec60",
   "metadata": {},
   "outputs": [],
   "source": [
    "import pandas as pd\n",
    "import matplotlib.pyplot as plt\n",
    "\n",
    "df = pd.read_csv(\"enseignants_hal_estimation.csv\")\n",
    "df[\"Date\"] = pd.to_datetime(df[\"Date\"])  # conversion en datetime\n"
   ]
  },
  {
   "cell_type": "code",
   "execution_count": 13,
   "id": "3ecfdc98-5863-46d8-a497-bcea59414436",
   "metadata": {
    "scrolled": true
   },
   "outputs": [
    {
     "data": {
      "text/plain": [
       "count      1.0\n",
       "mean     408.0\n",
       "std        NaN\n",
       "min      408.0\n",
       "25%      408.0\n",
       "50%      408.0\n",
       "75%      408.0\n",
       "max      408.0\n",
       "Name: Nombre d’auteurs francophones estimé, dtype: float64"
      ]
     },
     "execution_count": 13,
     "metadata": {},
     "output_type": "execute_result"
    }
   ],
   "source": [
    "df[\"Nombre d’auteurs francophones estimé\"].describe()\n"
   ]
  },
  {
   "cell_type": "code",
   "execution_count": 14,
   "id": "155703e3-097e-4ce1-b50b-10d7dcf62ae1",
   "metadata": {},
   "outputs": [
    {
     "data": {
      "text/html": [
       "<div>\n",
       "<style scoped>\n",
       "    .dataframe tbody tr th:only-of-type {\n",
       "        vertical-align: middle;\n",
       "    }\n",
       "\n",
       "    .dataframe tbody tr th {\n",
       "        vertical-align: top;\n",
       "    }\n",
       "\n",
       "    .dataframe thead th {\n",
       "        text-align: right;\n",
       "    }\n",
       "</style>\n",
       "<table border=\"1\" class=\"dataframe\">\n",
       "  <thead>\n",
       "    <tr style=\"text-align: right;\">\n",
       "      <th></th>\n",
       "      <th>Date</th>\n",
       "      <th>Nombre d’auteurs francophones estimé</th>\n",
       "      <th>Moyenne mobile</th>\n",
       "    </tr>\n",
       "  </thead>\n",
       "  <tbody>\n",
       "    <tr>\n",
       "      <th>0</th>\n",
       "      <td>2025-05-21 06:27:37</td>\n",
       "      <td>408</td>\n",
       "      <td>NaN</td>\n",
       "    </tr>\n",
       "  </tbody>\n",
       "</table>\n",
       "</div>"
      ],
      "text/plain": [
       "                 Date  Nombre d’auteurs francophones estimé  Moyenne mobile\n",
       "0 2025-05-21 06:27:37                                   408             NaN"
      ]
     },
     "execution_count": 14,
     "metadata": {},
     "output_type": "execute_result"
    }
   ],
   "source": [
    "df[\"Moyenne mobile\"] = df[\"Nombre d’auteurs francophones estimé\"].rolling(window=3).mean()\n",
    "df[[\"Date\", \"Nombre d’auteurs francophones estimé\", \"Moyenne mobile\"]]\n"
   ]
  },
  {
   "cell_type": "code",
   "execution_count": 15,
   "id": "2d296d8c-be61-403e-a028-1848a7770d42",
   "metadata": {},
   "outputs": [
    {
     "data": {
      "image/png": "[encoded data removed]",
      "text/plain": [
       "<Figure size 720x360 with 1 Axes>"
      ]
     },
     "metadata": {
      "needs_background": "light"
     },
     "output_type": "display_data"
    }
   ],
   "source": [
    "plt.figure(figsize=(10, 5))\n",
    "plt.plot(df[\"Date\"], df[\"Nombre d’auteurs francophones estimé\"], label=\"Valeurs réelles\", marker='o')\n",
    "plt.plot(df[\"Date\"], df[\"Moyenne mobile\"], label=\"Moyenne mobile (3)\", linestyle='--')\n",
    "plt.title(\"Évolution du nombre d’auteurs francophones (API HAL)\")\n",
    "plt.xlabel(\"Date\")\n",
    "plt.ylabel(\"Nombre estimé\")\n",
    "plt.legend()\n",
    "plt.grid(True)\n",
    "plt.tight_layout()\n",
    "plt.show()\n"
   ]
  },
  {
   "cell_type": "markdown",
   "id": "dd1b9c46-dfb3-49ae-9d6e-11deeac2d3f0",
   "metadata": {},
   "source": [
    "## 🤖 Étape 7 — Mettre en œuvre des modèles prédictifs basés sur l'intelligence artificielle\n",
    "\n",
    "> Cette étape applique un modèle de régression linéaire pour anticiper l’évolution du nombre d’auteurs francophones en fonction du temps.\n"
   ]
  },
  {
   "cell_type": "code",
   "execution_count": 16,
   "id": "2994f9e7-825f-43ee-94f5-efd652854092",
   "metadata": {},
   "outputs": [
    {
     "name": "stdout",
     "output_type": "stream",
     "text": [
      "Defaulting to user installation because normal site-packages is not writeable\n",
      "Requirement already satisfied: scikit-learn in /home/hicham/.local/lib/python3.10/site-packages (1.6.1)\n",
      "Requirement already satisfied: threadpoolctl>=3.1.0 in /home/hicham/.local/lib/python3.10/site-packages (from scikit-learn) (3.6.0)\n",
      "Requirement already satisfied: scipy>=1.6.0 in /usr/lib/python3/dist-packages (from scikit-learn) (1.8.0)\n",
      "Requirement already satisfied: joblib>=1.2.0 in /home/hicham/.local/lib/python3.10/site-packages (from scikit-learn) (1.5.0)\n",
      "Requirement already satisfied: numpy>=1.19.5 in /home/hicham/.local/lib/python3.10/site-packages (from scikit-learn) (2.2.6)\n"
     ]
    }
   ],
   "source": [
    "!pip install scikit-learn\n"
   ]
  },
  {
   "cell_type": "code",
   "execution_count": 17,
   "id": "af8fedb1-d282-4afe-bdf9-dcdf5a555be9",
   "metadata": {},
   "outputs": [
    {
     "name": "stdout",
     "output_type": "stream",
     "text": [
      "Defaulting to user installation because normal site-packages is not writeable\n",
      "Collecting numpy==1.24.4\n",
      "  Using cached numpy-1.24.4-cp310-cp310-manylinux_2_17_x86_64.manylinux2014_x86_64.whl (17.3 MB)\n",
      "Installing collected packages: numpy\n",
      "  Attempting uninstall: numpy\n",
      "    Found existing installation: numpy 2.2.6\n",
      "    Uninstalling numpy-2.2.6:\n",
      "      Successfully uninstalled numpy-2.2.6\n",
      "Successfully installed numpy-1.24.4\n"
     ]
    }
   ],
   "source": [
    "!pip install numpy==1.24.4\n"
   ]
  },
  {
   "cell_type": "code",
   "execution_count": 18,
   "id": "791b15bf-6262-47b6-83df-c9ef051a1d12",
   "metadata": {},
   "outputs": [
    {
     "name": "stdout",
     "output_type": "stream",
     "text": [
      "Defaulting to user installation because normal site-packages is not writeable\n",
      "Collecting numpy==1.24.4\n",
      "  Using cached numpy-1.24.4-cp310-cp310-manylinux_2_17_x86_64.manylinux2014_x86_64.whl (17.3 MB)\n",
      "Installing collected packages: numpy\n",
      "  Attempting uninstall: numpy\n",
      "    Found existing installation: numpy 1.24.4\n",
      "    Uninstalling numpy-1.24.4:\n",
      "      Successfully uninstalled numpy-1.24.4\n",
      "Successfully installed numpy-1.24.4\n"
     ]
    }
   ],
   "source": [
    "!pip install numpy==1.24.4 --force-reinstall\n"
   ]
  },
  {
   "cell_type": "code",
   "execution_count": 19,
   "id": "be3b5f7e-6481-48c1-862c-769437c03a8e",
   "metadata": {},
   "outputs": [
    {
     "name": "stdout",
     "output_type": "stream",
     "text": [
      "Defaulting to user installation because normal site-packages is not writeable\n",
      "Collecting numpy==1.24.4\n",
      "  Downloading numpy-1.24.4-cp310-cp310-manylinux_2_17_x86_64.manylinux2014_x86_64.whl (17.3 MB)\n",
      "\u001b[2K     \u001b[38;2;114;156;31m━━━━━━━━━━━━━━━━━━━━━━━━━━━━━━━━━━━━━━━━\u001b[0m \u001b[32m17.3/17.3 MB\u001b[0m \u001b[31m7.2 MB/s\u001b[0m eta \u001b[36m0:00:00\u001b[0mm eta \u001b[36m0:00:01\u001b[0m0:01\u001b[0m:01\u001b[0m\n",
      "\u001b[?25hInstalling collected packages: numpy\n",
      "  Attempting uninstall: numpy\n",
      "    Found existing installation: numpy 1.24.4\n",
      "    Uninstalling numpy-1.24.4:\n",
      "      Successfully uninstalled numpy-1.24.4\n",
      "Successfully installed numpy-1.24.4\n"
     ]
    }
   ],
   "source": [
    "!pip install numpy==1.24.4 --force-reinstall --no-cache-dir\n"
   ]
  },
  {
   "cell_type": "code",
   "execution_count": 22,
   "id": "60dbb306-5ad8-4e56-9443-4b0127fa8588",
   "metadata": {},
   "outputs": [
    {
     "name": "stderr",
     "output_type": "stream",
     "text": [
      "/tmp/ipykernel_4196/3432673494.py:5: FutureWarning: 'M' is deprecated and will be removed in a future version, please use 'ME' instead.\n",
      "  dates = pd.date_range(start=\"2023-01-01\", periods=15, freq=\"M\")\n"
     ]
    }
   ],
   "source": [
    "import pandas as pd\n",
    "from datetime import datetime, timedelta\n",
    "\n",
    "# Générer 15 dates espacées d’un mois\n",
    "dates = pd.date_range(start=\"2023-01-01\", periods=15, freq=\"M\")\n",
    "\n",
    "# Valeurs estimées fictives\n",
    "valeurs = [410, 412, 415, 418, 421, 419, 423, 426, 428, 430, 432, 435, 437, 440, 443]\n",
    "\n",
    "# Construire un DataFrame de test\n",
    "df = pd.DataFrame({\n",
    "    \"Date\": dates,\n",
    "    \"Nombre d’auteurs francophones estimé\": valeurs\n",
    "})\n"
   ]
  },
  {
   "cell_type": "code",
   "execution_count": 23,
   "id": "5b43442c-aefb-4d52-82a1-98e86a797c98",
   "metadata": {},
   "outputs": [
    {
     "name": "stdout",
     "output_type": "stream",
     "text": [
      "         Date  Nombre d’auteurs francophones estimé  Prédiction IA\n",
      "0  2023-01-31                                   410     410.139923\n",
      "1  2023-02-28                                   412     412.229130\n",
      "2  2023-03-31                                   415     414.542181\n",
      "3  2023-04-30                                   418     416.780617\n",
      "4  2023-05-31                                   421     419.093667\n",
      "5  2023-06-30                                   419     421.332104\n",
      "6  2023-07-31                                   423     423.645154\n",
      "7  2023-08-31                                   426     425.958205\n",
      "8  2023-09-30                                   428     428.196641\n",
      "9  2023-10-31                                   430     430.509692\n",
      "10 2023-11-30                                   432     432.748128\n",
      "11 2023-12-31                                   435     435.061178\n",
      "12 2024-01-31                                   437     437.374229\n",
      "13 2024-02-29                                   440     439.538051\n",
      "14 2024-03-31                                   443     441.851101\n"
     ]
    }
   ],
   "source": [
    "from sklearn.linear_model import LinearRegression\n",
    "import numpy as np\n",
    "\n",
    "# ✅ Nettoyer les données en ne gardant que les lignes complètes\n",
    "df_clean = df.dropna(subset=[\"Date\", \"Nombre d’auteurs francophones estimé\"])\n",
    "\n",
    "# ✅ Vérifier que des données restent\n",
    "if not df_clean.empty:\n",
    "    # ⏳ Conversion de la date en timestamp numérique\n",
    "    df_clean[\"Timestamp\"] = df_clean[\"Date\"].astype(\"int64\") // 10**9\n",
    "\n",
    "    # 🎯 Variables explicatives et cible\n",
    "    X = df_clean[\"Timestamp\"].values.reshape(-1, 1)\n",
    "    y = df_clean[\"Nombre d’auteurs francophones estimé\"].values\n",
    "\n",
    "    # ⚙️ Régression linéaire\n",
    "    model = LinearRegression()\n",
    "    model.fit(X, y)\n",
    "\n",
    "    # 🔮 Prédictions IA\n",
    "    df_clean[\"Prédiction IA\"] = model.predict(X)\n",
    "\n",
    "    # ✅ Afficher un échantillon\n",
    "    print(df_clean[[\"Date\", \"Nombre d’auteurs francophones estimé\", \"Prédiction IA\"]])\n",
    "else:\n",
    "    print(\"❌ Aucune donnée disponible pour entraîner un modèle.\")\n"
   ]
  },
  {
   "cell_type": "code",
   "execution_count": 24,
   "id": "87d7b8e2-f280-4efa-bf46-e03ed3168515",
   "metadata": {},
   "outputs": [
    {
     "data": {
      "image/png": "[encoded data removed]",
      "text/plain": [
       "<Figure size 720x360 with 1 Axes>"
      ]
     },
     "metadata": {
      "needs_background": "light"
     },
     "output_type": "display_data"
    }
   ],
   "source": [
    "import matplotlib.pyplot as plt\n",
    "\n",
    "plt.figure(figsize=(10, 5))\n",
    "plt.plot(df_clean[\"Date\"], df_clean[\"Nombre d’auteurs francophones estimé\"], label=\"Valeurs réelles\", marker=\"o\")\n",
    "plt.plot(df_clean[\"Date\"], df_clean[\"Prédiction IA\"], label=\"Prédiction IA\", linestyle=\"--\")\n",
    "plt.title(\"Comparaison entre les valeurs réelles et la prédiction IA\")\n",
    "plt.xlabel(\"Date\")\n",
    "plt.ylabel(\"Nombre estimé\")\n",
    "plt.legend()\n",
    "plt.grid(True)\n",
    "plt.xticks(rotation=45)\n",
    "plt.tight_layout()\n",
    "plt.show()\n"
   ]
  },
  {
   "cell_type": "code",
   "execution_count": 25,
   "id": "6e4e3bed-0450-4d79-bc0b-555d983a6d73",
   "metadata": {},
   "outputs": [
    {
     "name": "stderr",
     "output_type": "stream",
     "text": [
      "/tmp/ipykernel_4196/2617082701.py:4: FutureWarning: 'M' is deprecated and will be removed in a future version, please use 'ME' instead.\n",
      "  future_dates = pd.date_range(start=\"2025-01-31\", end=\"2025-12-31\", freq=\"M\")\n"
     ]
    }
   ],
   "source": [
    "import pandas as pd\n",
    "\n",
    "# Générer des dates futures (mensuelles en 2025)\n",
    "future_dates = pd.date_range(start=\"2025-01-31\", end=\"2025-12-31\", freq=\"M\")\n",
    "\n",
    "# Convertir en timestamp pour prédiction\n",
    "future_timestamps = future_dates.astype(\"int64\") // 10**9\n",
    "X_future = future_timestamps.values.reshape(-1, 1)\n",
    "\n",
    "# Prédire avec le modèle IA\n",
    "y_future_pred = model.predict(X_future)\n",
    "\n",
    "# Construire un DataFrame pour visualiser\n",
    "df_future = pd.DataFrame({\n",
    "    \"Date\": future_dates,\n",
    "    \"Prédiction IA\": y_future_pred\n",
    "})\n"
   ]
  },
  {
   "cell_type": "code",
   "execution_count": 26,
   "id": "02e5de12-7ad0-4b95-a024-82c98b071e1f",
   "metadata": {},
   "outputs": [
    {
     "data": {
      "image/png": "[encoded data removed]",
      "text/plain": [
       "<Figure size 864x432 with 1 Axes>"
      ]
     },
     "metadata": {
      "needs_background": "light"
     },
     "output_type": "display_data"
    }
   ],
   "source": [
    "plt.figure(figsize=(12, 6))\n",
    "\n",
    "# Historique\n",
    "plt.plot(df_clean[\"Date\"], df_clean[\"Nombre d’auteurs francophones estimé\"], label=\"Valeurs réelles\", marker=\"o\")\n",
    "plt.plot(df_clean[\"Date\"], df_clean[\"Prédiction IA\"], label=\"Prédiction IA (historique)\", linestyle=\"--\")\n",
    "\n",
    "# Futur\n",
    "plt.plot(df_future[\"Date\"], df_future[\"Prédiction IA\"], label=\"Projection 2025\", linestyle=\":\", marker=\"x\")\n",
    "\n",
    "plt.title(\"Projection IA du nombre d’auteurs francophones (jusqu'à 2025)\")\n",
    "plt.xlabel(\"Date\")\n",
    "plt.ylabel(\"Nombre estimé\")\n",
    "plt.legend()\n",
    "plt.grid(True)\n",
    "plt.xticks(rotation=45)\n",
    "plt.tight_layout()\n",
    "plt.show()\n"
   ]
  },
  {
   "cell_type": "markdown",
   "id": "6685f3f8-8aab-4871-9755-157de9810790",
   "metadata": {},
   "source": [
    "## ⚙️ Étape 7 — Automatiser le traitement et la préparation des données\n",
    "\n",
    "> Cette étape permet d’organiser tout le processus (de la collecte à la prédiction) dans une fonction exécutable automatiquement.\n"
   ]
  },
  {
   "cell_type": "code",
   "execution_count": 27,
   "id": "93b4c65d-d0b0-43e5-969e-b5f501726308",
   "metadata": {},
   "outputs": [
    {
     "name": "stdout",
     "output_type": "stream",
     "text": [
      "✅ Données sauvegardées :                  Date  Nombre d’auteurs francophones estimé\n",
      "0 2025-05-21 06:46:13                                   408\n",
      "                 Date  Nombre d’auteurs francophones estimé   Timestamp  \\\n",
      "0 2025-05-21 06:46:13                                   408  1747809973   \n",
      "\n",
      "   Prédiction IA  \n",
      "0          408.0  \n"
     ]
    }
   ],
   "source": [
    "def pipeline_estimation():\n",
    "    import requests\n",
    "    import pandas as pd\n",
    "    import numpy as np\n",
    "    from datetime import datetime\n",
    "    from sklearn.linear_model import LinearRegression\n",
    "    import matplotlib.pyplot as plt\n",
    "\n",
    "    # Récupération API HAL\n",
    "    url = \"https://api.archives-ouvertes.fr/search/?q=language_s:fr AND structName_s:[* TO *]&fl=authIdHal_s&rows=1000\"\n",
    "    response = requests.get(url)\n",
    "\n",
    "    if response.status_code != 200:\n",
    "        print(\"❌ Erreur API\")\n",
    "        return\n",
    "\n",
    "    data = response.json().get(\"response\", {}).get(\"docs\", [])\n",
    "    auteurs = set()\n",
    "    for doc in data:\n",
    "        ids = doc.get(\"authIdHal_s\", [])\n",
    "        auteurs.update(i.strip() for i in ids if i and i.strip())\n",
    "\n",
    "    # Enregistrement CSV\n",
    "    date_now = datetime.now().strftime(\"%Y-%m-%d %H:%M:%S\")\n",
    "    df = pd.DataFrame([[date_now, len(auteurs)]],\n",
    "                      columns=[\"Date\", \"Nombre d’auteurs francophones estimé\"])\n",
    "    df[\"Date\"] = pd.to_datetime(df[\"Date\"])\n",
    "    df.to_csv(\"enseignants_hal_estimation.csv\", index=False, encoding=\"utf-8\")\n",
    "    print(\"✅ Données sauvegardées :\", df)\n",
    "\n",
    "    # Modèle IA\n",
    "    df_clean = df.dropna()\n",
    "    if df_clean.empty:\n",
    "        print(\"❌ Pas assez de données pour entraîner un modèle.\")\n",
    "        return\n",
    "\n",
    "    df_clean[\"Timestamp\"] = df_clean[\"Date\"].astype(\"int64\") // 10**9\n",
    "    X = df_clean[\"Timestamp\"].values.reshape(-1, 1)\n",
    "    y = df_clean[\"Nombre d’auteurs francophones estimé\"].values\n",
    "    model = LinearRegression()\n",
    "    model.fit(X, y)\n",
    "    df_clean[\"Prédiction IA\"] = model.predict(X)\n",
    "\n",
    "    # Affichage\n",
    "    print(df_clean)\n",
    "\n",
    "# Lancer le pipeline\n",
    "pipeline_estimation()\n"
   ]
  },
  {
   "cell_type": "code",
   "execution_count": 28,
   "id": "e2aa5bfe-e69b-44a9-83b9-daf2f4d70ff1",
   "metadata": {},
   "outputs": [
    {
     "name": "stdout",
     "output_type": "stream",
     "text": [
      "✅ Données sauvegardées :\n",
      "                  Date  Nombre d’auteurs francophones estimé\n",
      "0  2025-05-21 06:46:13                                   408\n",
      "1  2025-05-21 06:50:55                                   408\n"
     ]
    }
   ],
   "source": [
    "import pandas as pd\n",
    "import os\n",
    "from datetime import datetime\n",
    "\n",
    "# 📅 Génération de la date actuelle\n",
    "date_du_jour = datetime.now().strftime(\"%Y-%m-%d %H:%M:%S\")\n",
    "\n",
    "# 📦 Création d’une ligne de données sous forme de DataFrame\n",
    "new_row = pd.DataFrame([[date_du_jour, len(auteurs)]],\n",
    "                       columns=[\"Date\", \"Nombre d’auteurs francophones estimé\"])\n",
    "\n",
    "# 🔁 Vérifier si le fichier existe déjà\n",
    "chemin_fichier = \"enseignants_hal_estimation.csv\"\n",
    "\n",
    "if os.path.exists(chemin_fichier):\n",
    "    # 🔄 Lire l'ancien fichier et ajouter la nouvelle ligne\n",
    "    df = pd.read_csv(chemin_fichier)\n",
    "    df = pd.concat([df, new_row], ignore_index=True)\n",
    "else:\n",
    "    # 📄 Créer un nouveau DataFrame si le fichier n'existe pas\n",
    "    df = new_row\n",
    "\n",
    "# 💾 Sauvegarder le fichier mis à jour\n",
    "df.to_csv(chemin_fichier, index=False, encoding=\"utf-8\")\n",
    "\n",
    "# ✅ Confirmation\n",
    "print(\"✅ Données sauvegardées :\")\n",
    "print(df.tail(3))  # afficher les 3 dernières lignes pour contrôle\n"
   ]
  },
  {
   "cell_type": "markdown",
   "id": "68601a39-c037-4d50-940c-71e8474ae2e0",
   "metadata": {},
   "source": [
    "## 📊 Étape 8 — Visualisation finale des résultats\n",
    "\n",
    "> Cette visualisation permet de comparer les valeurs réelles avec les prédictions IA, et les projections futures (2025).\n"
   ]
  },
  {
   "cell_type": "code",
   "execution_count": 29,
   "id": "84e7a68c-2670-419f-8e88-52ee810f7c19",
   "metadata": {},
   "outputs": [
    {
     "name": "stderr",
     "output_type": "stream",
     "text": [
      "/tmp/ipykernel_4196/1247185862.py:11: FutureWarning: 'M' is deprecated and will be removed in a future version, please use 'ME' instead.\n",
      "  future_dates = pd.date_range(start=\"2025-01-01\", periods=12, freq=\"M\")\n"
     ]
    },
    {
     "data": {
      "image/png": "[encoded data removed]",
      "text/plain": [
       "<Figure size 864x432 with 1 Axes>"
      ]
     },
     "metadata": {
      "needs_background": "light"
     },
     "output_type": "display_data"
    }
   ],
   "source": [
    "# Affichage des résultats\n",
    "plt.figure(figsize=(12, 6))\n",
    "\n",
    "# Données historiques\n",
    "plt.plot(df_clean[\"Date\"], df_clean[\"Nombre d’auteurs francophones estimé\"],\n",
    "         label=\"Valeurs réelles\", marker='o')\n",
    "plt.plot(df_clean[\"Date\"], df_clean[\"Prédiction IA\"],\n",
    "         label=\"Prédiction IA (historique)\", linestyle=\"--\")\n",
    "\n",
    "# Projections 2025\n",
    "future_dates = pd.date_range(start=\"2025-01-01\", periods=12, freq=\"M\")\n",
    "future_timestamps = future_dates.astype(\"int64\") // 10**9\n",
    "future_preds = model.predict(future_timestamps.values.reshape(-1, 1))\n",
    "plt.plot(future_dates, future_preds, label=\"Projection 2025\", linestyle=\":\", marker='x')\n",
    "\n",
    "plt.title(\"Projection IA du nombre d’auteurs francophones (jusqu'à 2025)\")\n",
    "plt.xlabel(\"Date\")\n",
    "plt.ylabel(\"Nombre estimé\")\n",
    "plt.legend()\n",
    "plt.grid(True)\n",
    "plt.xticks(rotation=45)\n",
    "plt.tight_layout()\n",
    "plt.show()\n"
   ]
  },
  {
   "cell_type": "code",
   "execution_count": 30,
   "id": "b46368ba-6c8f-4838-95e3-509452c8d776",
   "metadata": {},
   "outputs": [
    {
     "name": "stdout",
     "output_type": "stream",
     "text": [
      "✅ Donnée ajoutée à l'historique : ['2025-05-21 06:56:17', 408]\n"
     ]
    }
   ],
   "source": [
    "from datetime import datetime\n",
    "import csv\n",
    "\n",
    "# Création d'une nouvelle ligne de sauvegarde\n",
    "date_du_jour = datetime.now().strftime(\"%Y-%m-%d %H:%M:%S\")\n",
    "nouvelle_ligne = [date_du_jour, int(len(auteurs))]\n",
    "\n",
    "# Append dans le fichier CSV historique\n",
    "with open(\"historique_estimation.csv\", mode=\"a\", newline=\"\", encoding=\"utf-8\") as fichier_csv:\n",
    "    writer = csv.writer(fichier_csv)\n",
    "    writer.writerow(nouvelle_ligne)\n",
    "\n",
    "print(\"✅ Donnée ajoutée à l'historique :\", nouvelle_ligne)\n"
   ]
  },
  {
   "cell_type": "code",
   "execution_count": 31,
   "id": "4ee650f3-04db-48e9-92d5-3d8ce3e69d7c",
   "metadata": {},
   "outputs": [
    {
     "data": {
      "image/png": "[encoded data removed]",
      "text/plain": [
       "<Figure size 720x360 with 1 Axes>"
      ]
     },
     "metadata": {
      "needs_background": "light"
     },
     "output_type": "display_data"
    }
   ],
   "source": [
    "import pandas as pd\n",
    "import matplotlib.pyplot as plt\n",
    "\n",
    "# Charger l'historique\n",
    "df_hist = pd.read_csv(\"historique_estimation.csv\", names=[\"Date\", \"Estimation\"])\n",
    "df_hist[\"Date\"] = pd.to_datetime(df_hist[\"Date\"])\n",
    "\n",
    "# Affichage graphique\n",
    "plt.figure(figsize=(10, 5))\n",
    "plt.plot(df_hist[\"Date\"], df_hist[\"Estimation\"], marker='o', linestyle='-')\n",
    "plt.title(\"Évolution historique du nombre d’auteurs estimés\")\n",
    "plt.xlabel(\"Date\")\n",
    "plt.ylabel(\"Nombre estimé\")\n",
    "plt.grid(True)\n",
    "plt.tight_layout()\n",
    "plt.show()\n"
   ]
  },
  {
   "cell_type": "code",
   "execution_count": null,
   "id": "896581f7-b8d9-4941-9a5d-8f5882c1b688",
   "metadata": {},
   "outputs": [],
   "source": []
  }
 ],
 "metadata": {
  "kernelspec": {
   "display_name": "Python 3 (ipykernel)",
   "language": "python",
   "name": "python3"
  },
  "language_info": {
   "codemirror_mode": {
    "name": "ipython",
    "version": 3
   },
   "file_extension": ".py",
   "mimetype": "text/x-python",
   "name": "python",
   "nbconvert_exporter": "python",
   "pygments_lexer": "ipython3",
   "version": "3.10.12"
  }
 },
 "nbformat": 4,
 "nbformat_minor": 5
}
